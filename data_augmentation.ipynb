{
 "cells": [
  {
   "cell_type": "code",
   "execution_count": 1,
   "metadata": {
    "collapsed": true
   },
   "outputs": [],
   "source": [
    "from keras_preprocessing.image import ImageDataGenerator, img_to_array, load_img\n",
    "import numpy as np\n",
    "import os\n",
    "import tensorflow as tf\n",
    "from PIL import Image"
   ]
  },
  {
   "cell_type": "code",
   "execution_count": 6,
   "outputs": [],
   "source": [
    "datagen = ImageDataGenerator(rotation_range=45, width_shift_range=0.2, height_shift_range=0.2,\n",
    "                             shear_range=0.2, zoom_range=0.2, horizontal_flip=True, fill_mode='reflect')"
   ],
   "metadata": {
    "collapsed": false
   }
  },
  {
   "cell_type": "code",
   "execution_count": 4,
   "outputs": [
    {
     "ename": "NameError",
     "evalue": "name 'x' is not defined",
     "output_type": "error",
     "traceback": [
      "\u001B[1;31m---------------------------------------------------------------------------\u001B[0m",
      "\u001B[1;31mNameError\u001B[0m                                 Traceback (most recent call last)",
      "Cell \u001B[1;32mIn [4], line 1\u001B[0m\n\u001B[1;32m----> 1\u001B[0m x \u001B[38;5;241m=\u001B[39m x\u001B[38;5;241m.\u001B[39mreshape((\u001B[38;5;241m1\u001B[39m,) \u001B[38;5;241m+\u001B[39m x\u001B[38;5;241m.\u001B[39mshape)\n\u001B[0;32m      2\u001B[0m x\u001B[38;5;241m.\u001B[39mshape\n",
      "\u001B[1;31mNameError\u001B[0m: name 'x' is not defined"
     ]
    }
   ],
   "source": [
    "img  = load_img('Dataset/Well-differentiate/OSCC_100x_1.jpg') #this is a PIL image\n",
    "x = img_to_array(img) # this is a numpy array\n",
    "x = x.reshape((1,) + x.shape)\n",
    "x.shape"
   ],
   "metadata": {
    "collapsed": false
   }
  },
  {
   "cell_type": "code",
   "execution_count": 11,
   "outputs": [],
   "source": [
    "i = 0\n",
    "for batch in datagen.flow(x, batch_size=1, save_to_dir='Dataset/preview', save_prefix='sample', save_format='jpeg'):\n",
    "    i += 1\n",
    "    if i > 20:\n",
    "        print(\"Data Augmentation Successful\")\n",
    "        break"
   ],
   "metadata": {
    "collapsed": false
   }
  },
  {
   "cell_type": "code",
   "execution_count": 8,
   "outputs": [
    {
     "name": "stdout",
     "output_type": "stream",
     "text": [
      "aug_0_10.jpeg\n",
      "aug_0_1126.jpeg\n",
      "aug_0_1138.jpeg\n",
      "aug_0_1149.jpeg\n",
      "aug_0_1213.jpeg\n",
      "aug_0_1271.jpeg\n",
      "aug_0_1306.jpeg\n",
      "aug_0_1443.jpeg\n",
      "aug_0_1707.jpeg\n",
      "aug_0_1800.jpeg\n",
      "aug_0_1814.jpeg\n",
      "aug_0_1935.jpeg\n",
      "aug_0_1974.jpeg\n",
      "aug_0_2071.jpeg\n",
      "aug_0_2074.jpeg\n",
      "aug_0_2237.jpeg\n",
      "aug_0_2386.jpeg\n",
      "aug_0_2395.jpeg\n",
      "aug_0_2551.jpeg\n",
      "aug_0_2732.jpeg\n",
      "aug_0_2760.jpeg\n",
      "aug_0_278.jpeg\n",
      "aug_0_2961.jpeg\n",
      "aug_0_3013.jpeg\n",
      "aug_0_3046.jpeg\n",
      "aug_0_3083.jpeg\n",
      "aug_0_3230.jpeg\n",
      "aug_0_3559.jpeg\n",
      "aug_0_3735.jpeg\n",
      "aug_0_3736.jpeg\n",
      "aug_0_3805.jpeg\n",
      "aug_0_3839.jpeg\n",
      "aug_0_385.jpeg\n",
      "aug_0_3870.jpeg\n",
      "aug_0_3910.jpeg\n",
      "aug_0_3920.jpeg\n",
      "aug_0_3957.jpeg\n",
      "aug_0_4045.jpeg\n",
      "aug_0_4102.jpeg\n",
      "aug_0_4180.jpeg\n",
      "aug_0_4201.jpeg\n",
      "aug_0_4203.jpeg\n",
      "aug_0_4222.jpeg\n",
      "aug_0_4251.jpeg\n",
      "aug_0_4257.jpeg\n",
      "aug_0_4274.jpeg\n",
      "aug_0_4276.jpeg\n",
      "aug_0_4346.jpeg\n",
      "aug_0_4526.jpeg\n",
      "aug_0_4700.jpeg\n",
      "aug_0_4711.jpeg\n",
      "aug_0_4804.jpeg\n",
      "aug_0_4815.jpeg\n",
      "aug_0_4895.jpeg\n",
      "aug_0_4907.jpeg\n",
      "aug_0_5087.jpeg\n",
      "aug_0_5104.jpeg\n",
      "aug_0_5129.jpeg\n",
      "aug_0_5157.jpeg\n",
      "aug_0_5271.jpeg\n",
      "aug_0_5298.jpeg\n",
      "aug_0_5353.jpeg\n",
      "aug_0_5401.jpeg\n",
      "aug_0_5656.jpeg\n",
      "aug_0_5772.jpeg\n",
      "aug_0_5801.jpeg\n",
      "aug_0_5832.jpeg\n",
      "aug_0_5859.jpeg\n",
      "aug_0_5890.jpeg\n",
      "aug_0_6013.jpeg\n",
      "aug_0_6048.jpeg\n",
      "aug_0_6311.jpeg\n",
      "aug_0_6455.jpeg\n",
      "aug_0_6625.jpeg\n",
      "aug_0_6642.jpeg\n",
      "aug_0_6694.jpeg\n",
      "aug_0_6711.jpeg\n",
      "aug_0_6836.jpeg\n",
      "aug_0_6899.jpeg\n",
      "aug_0_6926.jpeg\n",
      "aug_0_6936.jpeg\n",
      "aug_0_6946.jpeg\n",
      "aug_0_7027.jpeg\n",
      "aug_0_7130.jpeg\n",
      "aug_0_7247.jpeg\n",
      "aug_0_7249.jpeg\n",
      "aug_0_7262.jpeg\n",
      "aug_0_7301.jpeg\n",
      "aug_0_7315.jpeg\n",
      "aug_0_7342.jpeg\n",
      "aug_0_758.jpeg\n",
      "aug_0_7683.jpeg\n",
      "aug_0_7698.jpeg\n",
      "aug_0_777.jpeg\n",
      "aug_0_7793.jpeg\n",
      "aug_0_8014.jpeg\n",
      "aug_0_808.jpeg\n",
      "aug_0_8102.jpeg\n",
      "aug_0_8213.jpeg\n",
      "aug_0_8414.jpeg\n",
      "aug_0_847.jpeg\n",
      "aug_0_8731.jpeg\n",
      "aug_0_9003.jpeg\n",
      "aug_0_9024.jpeg\n",
      "aug_0_9027.jpeg\n",
      "aug_0_9050.jpeg\n",
      "aug_0_9141.jpeg\n",
      "aug_0_9163.jpeg\n",
      "aug_0_9200.jpeg\n",
      "aug_0_9317.jpeg\n",
      "aug_0_9487.jpeg\n",
      "aug_0_9554.jpeg\n",
      "aug_0_9620.jpeg\n",
      "aug_0_9635.jpeg\n",
      "aug_0_9688.jpeg\n",
      "aug_0_9733.jpeg\n",
      "aug_0_9877.jpeg\n",
      "aug_0_9884.jpeg\n",
      "OSCC_100x_1.jpg\n",
      "OSCC_100x_111.jpg\n",
      "OSCC_100x_113.jpg\n",
      "OSCC_100x_12.jpg\n",
      "OSCC_100x_120.jpg\n",
      "OSCC_100x_123.jpg\n",
      "OSCC_100x_13.jpg\n",
      "OSCC_100x_14.jpg\n",
      "OSCC_100x_155.jpg\n",
      "OSCC_100x_156.jpg\n",
      "OSCC_100x_174.jpg\n",
      "OSCC_100x_177.jpg\n",
      "OSCC_100x_178.jpg\n",
      "OSCC_100x_179.jpg\n",
      "OSCC_100x_21.jpg\n",
      "OSCC_100x_217.jpg\n",
      "OSCC_100x_22.jpg\n",
      "OSCC_100x_229.jpg\n",
      "OSCC_100x_237.jpg\n",
      "OSCC_100x_238.jpg\n",
      "OSCC_100x_241.jpg\n",
      "OSCC_100x_25.jpg\n",
      "OSCC_100x_256.jpg\n",
      "OSCC_100x_26.jpg\n",
      "OSCC_100x_263.jpg\n",
      "OSCC_100x_272.jpg\n",
      "OSCC_100x_280.jpg\n",
      "OSCC_100x_281.jpg\n",
      "OSCC_100x_282.jpg\n",
      "OSCC_100x_285.jpg\n",
      "OSCC_100x_286.jpg\n",
      "OSCC_100x_29.jpg\n",
      "OSCC_100x_294.jpg\n",
      "OSCC_100x_30.jpg\n",
      "OSCC_100x_301.jpg\n",
      "OSCC_100x_302.jpg\n",
      "OSCC_100x_308.jpg\n",
      "OSCC_100x_311.jpg\n",
      "OSCC_100x_314.jpg\n",
      "OSCC_100x_319.jpg\n",
      "OSCC_100x_32.jpg\n",
      "OSCC_100x_320.jpg\n",
      "OSCC_100x_321.jpg\n",
      "OSCC_100x_322.jpg\n",
      "OSCC_100x_326.jpg\n",
      "OSCC_100x_327.jpg\n",
      "OSCC_100x_328.jpg\n",
      "OSCC_100x_329.jpg\n",
      "OSCC_100x_330.jpg\n",
      "OSCC_100x_331.jpg\n",
      "OSCC_100x_332.jpg\n",
      "OSCC_100x_34.jpg\n",
      "OSCC_100x_341.jpg\n",
      "OSCC_100x_344.jpg\n",
      "OSCC_100x_347.jpg\n",
      "OSCC_100x_35.jpg\n",
      "OSCC_100x_354.jpg\n",
      "OSCC_100x_358.jpg\n",
      "OSCC_100x_359.jpg\n",
      "OSCC_100x_36.jpg\n",
      "OSCC_100x_361.jpg\n",
      "OSCC_100x_362.jpg\n",
      "OSCC_100x_364.jpg\n",
      "OSCC_100x_365.jpg\n",
      "OSCC_100x_366.jpg\n",
      "OSCC_100x_368.jpg\n",
      "OSCC_100x_369.jpg\n",
      "OSCC_100x_370.jpg\n",
      "OSCC_100x_371.jpg\n",
      "OSCC_100x_372.jpg\n",
      "OSCC_100x_373.jpg\n",
      "OSCC_100x_374.jpg\n",
      "OSCC_100x_375.jpg\n",
      "OSCC_100x_379.jpg\n",
      "OSCC_100x_38.jpg\n",
      "OSCC_100x_386.jpg\n",
      "OSCC_100x_387.jpg\n",
      "OSCC_100x_388.jpg\n",
      "OSCC_100x_389.jpg\n",
      "OSCC_100x_39.jpg\n",
      "OSCC_100x_390.jpg\n",
      "OSCC_100x_391.jpg\n",
      "OSCC_100x_393.jpg\n",
      "OSCC_100x_397.jpg\n",
      "OSCC_100x_40.jpg\n",
      "OSCC_100x_403.jpg\n",
      "OSCC_100x_409.jpg\n",
      "OSCC_100x_41.jpg\n",
      "OSCC_100x_414.jpg\n",
      "OSCC_100x_418.jpg\n",
      "OSCC_100x_422.jpg\n",
      "OSCC_100x_423.jpg\n",
      "OSCC_100x_427.jpg\n",
      "OSCC_100x_431.jpg\n",
      "OSCC_100x_432.jpg\n",
      "OSCC_100x_433.jpg\n",
      "OSCC_100x_434.jpg\n",
      "OSCC_100x_436.jpg\n",
      "OSCC_100x_438.jpg\n",
      "OSCC_100x_47.jpg\n",
      "OSCC_100x_61.jpg\n",
      "OSCC_100x_70.jpg\n",
      "OSCC_100x_72.jpg\n",
      "OSCC_100x_74.jpg\n",
      "OSCC_100x_8.jpg\n",
      "OSCC_100x_82.jpg\n",
      "OSCC_100x_90.jpg\n",
      "OSCC_400x_1.jpg\n",
      "OSCC_400x_162.jpg\n",
      "OSCC_400x_163.jpg\n",
      "OSCC_400x_209.jpg\n",
      "OSCC_400x_262.jpg\n",
      "OSCC_400x_270.jpg\n",
      "OSCC_400x_31.jpg\n",
      "OSCC_400x_400.jpg\n",
      "OSCC_400x_402.jpg\n",
      "OSCC_400x_439.jpg\n",
      "OSCC_400x_440.jpg\n",
      "OSCC_400x_444.jpg\n",
      "OSCC_400x_466.jpg\n",
      "238\n"
     ]
    }
   ],
   "source": [
    "data_dir = 'Dataset'\n",
    "count = 0\n",
    "for image_class in os.listdir(data_dir):\n",
    "    if image_class == 'Well-differentiate':\n",
    "        for image in os.listdir(os.path.join(data_dir, image_class)):\n",
    "            count = count +1\n",
    "            print(image)\n",
    "        print(count)"
   ],
   "metadata": {
    "collapsed": false
   }
  },
  {
   "cell_type": "code",
   "execution_count": 11,
   "outputs": [
    {
     "ename": "KeyboardInterrupt",
     "evalue": "",
     "output_type": "error",
     "traceback": [
      "\u001B[1;31m---------------------------------------------------------------------------\u001B[0m",
      "\u001B[1;31mKeyboardInterrupt\u001B[0m                         Traceback (most recent call last)",
      "Cell \u001B[1;32mIn [11], line 7\u001B[0m\n\u001B[0;32m      5\u001B[0m image_count \u001B[38;5;241m=\u001B[39m image_count \u001B[38;5;241m+\u001B[39m \u001B[38;5;241m1\u001B[39m\n\u001B[0;32m      6\u001B[0m img  \u001B[38;5;241m=\u001B[39m load_img(image_path)\n\u001B[1;32m----> 7\u001B[0m img \u001B[38;5;241m=\u001B[39m img\u001B[38;5;241m.\u001B[39mresize((\u001B[38;5;241m256\u001B[39m, \u001B[38;5;241m256\u001B[39m))\n\u001B[0;32m      8\u001B[0m x \u001B[38;5;241m=\u001B[39m img_to_array(img)\n\u001B[0;32m      9\u001B[0m x \u001B[38;5;241m=\u001B[39m x\u001B[38;5;241m.\u001B[39mreshape((\u001B[38;5;241m1\u001B[39m,) \u001B[38;5;241m+\u001B[39m x\u001B[38;5;241m.\u001B[39mshape)\n",
      "File \u001B[1;32mC:\\Program Files\\Python310\\lib\\site-packages\\PIL\\Image.py:2079\u001B[0m, in \u001B[0;36mImage.resize\u001B[1;34m(self, size, resample, box, reducing_gap)\u001B[0m\n\u001B[0;32m   2075\u001B[0m     \u001B[38;5;28;01mraise\u001B[39;00m \u001B[38;5;167;01mValueError\u001B[39;00m(\u001B[38;5;124m\"\u001B[39m\u001B[38;5;124mreducing_gap must be 1.0 or greater\u001B[39m\u001B[38;5;124m\"\u001B[39m)\n\u001B[0;32m   2077\u001B[0m size \u001B[38;5;241m=\u001B[39m \u001B[38;5;28mtuple\u001B[39m(size)\n\u001B[1;32m-> 2079\u001B[0m \u001B[38;5;28;43mself\u001B[39;49m\u001B[38;5;241;43m.\u001B[39;49m\u001B[43mload\u001B[49m\u001B[43m(\u001B[49m\u001B[43m)\u001B[49m\n\u001B[0;32m   2080\u001B[0m \u001B[38;5;28;01mif\u001B[39;00m box \u001B[38;5;129;01mis\u001B[39;00m \u001B[38;5;28;01mNone\u001B[39;00m:\n\u001B[0;32m   2081\u001B[0m     box \u001B[38;5;241m=\u001B[39m (\u001B[38;5;241m0\u001B[39m, \u001B[38;5;241m0\u001B[39m) \u001B[38;5;241m+\u001B[39m \u001B[38;5;28mself\u001B[39m\u001B[38;5;241m.\u001B[39msize\n",
      "File \u001B[1;32mC:\\Program Files\\Python310\\lib\\site-packages\\PIL\\ImageFile.py:260\u001B[0m, in \u001B[0;36mImageFile.load\u001B[1;34m(self)\u001B[0m\n\u001B[0;32m    254\u001B[0m         \u001B[38;5;28;01mraise\u001B[39;00m \u001B[38;5;167;01mOSError\u001B[39;00m(\n\u001B[0;32m    255\u001B[0m             \u001B[38;5;124m\"\u001B[39m\u001B[38;5;124mimage file is truncated \u001B[39m\u001B[38;5;124m\"\u001B[39m\n\u001B[0;32m    256\u001B[0m             \u001B[38;5;124mf\u001B[39m\u001B[38;5;124m\"\u001B[39m\u001B[38;5;124m(\u001B[39m\u001B[38;5;132;01m{\u001B[39;00m\u001B[38;5;28mlen\u001B[39m(b)\u001B[38;5;132;01m}\u001B[39;00m\u001B[38;5;124m bytes not processed)\u001B[39m\u001B[38;5;124m\"\u001B[39m\n\u001B[0;32m    257\u001B[0m         )\n\u001B[0;32m    259\u001B[0m b \u001B[38;5;241m=\u001B[39m b \u001B[38;5;241m+\u001B[39m s\n\u001B[1;32m--> 260\u001B[0m n, err_code \u001B[38;5;241m=\u001B[39m \u001B[43mdecoder\u001B[49m\u001B[38;5;241;43m.\u001B[39;49m\u001B[43mdecode\u001B[49m\u001B[43m(\u001B[49m\u001B[43mb\u001B[49m\u001B[43m)\u001B[49m\n\u001B[0;32m    261\u001B[0m \u001B[38;5;28;01mif\u001B[39;00m n \u001B[38;5;241m<\u001B[39m \u001B[38;5;241m0\u001B[39m:\n\u001B[0;32m    262\u001B[0m     \u001B[38;5;28;01mbreak\u001B[39;00m\n",
      "\u001B[1;31mKeyboardInterrupt\u001B[0m: "
     ]
    }
   ],
   "source": [
    "for image_class in os.listdir('train'):\n",
    "    image_count = 0\n",
    "    for image in os.listdir(os.path.join(data_dir, image_class)):\n",
    "        image_path = os.path.join(data_dir, image_class, image)\n",
    "        image_count = image_count + 1\n",
    "        img  = load_img(image_path)\n",
    "        img = img.resize((256, 256))\n",
    "        x = img_to_array(img)\n",
    "        x = x.reshape((1,) + x.shape)\n",
    "        i = 0\n",
    "        for batch in datagen.flow(x, batch_size=1, save_to_dir='train/Moderately-differentiate', save_prefix='aug', save_format='jpg'):\n",
    "            i += 1\n",
    "            if i >= 20:\n",
    "                break\n",
    "    print(\"Image Count is \" , image_count)\n"
   ],
   "metadata": {
    "collapsed": false
   }
  },
  {
   "cell_type": "code",
   "execution_count": null,
   "outputs": [],
   "source": [
    "def imageAugmentation(folder):\n",
    "    for image_class in os.listdir('train'):\n",
    "        image_count = 0\n",
    "        for image in os.listdir(os.path.join('train', image_class)):\n",
    "            image_path = os.path.join('train', image_class, image)\n",
    "\n"
   ],
   "metadata": {
    "collapsed": false
   }
  },
  {
   "cell_type": "code",
   "execution_count": 10,
   "outputs": [
    {
     "ename": "ValueError",
     "evalue": "Attempt to convert a value (<PIL.JpegImagePlugin.JpegImageFile image mode=RGB size=2048x1536 at 0x168F66ED4E0>) with an unsupported type (<class 'PIL.JpegImagePlugin.JpegImageFile'>) to a Tensor.",
     "output_type": "error",
     "traceback": [
      "\u001B[1;31m---------------------------------------------------------------------------\u001B[0m",
      "\u001B[1;31mValueError\u001B[0m                                Traceback (most recent call last)",
      "Cell \u001B[1;32mIn [10], line 8\u001B[0m\n\u001B[0;32m      6\u001B[0m image_count \u001B[38;5;241m=\u001B[39m image_count \u001B[38;5;241m+\u001B[39m \u001B[38;5;241m1\u001B[39m\n\u001B[0;32m      7\u001B[0m img  \u001B[38;5;241m=\u001B[39m load_img(image_path)\n\u001B[1;32m----> 8\u001B[0m resize_img \u001B[38;5;241m=\u001B[39m tf\u001B[38;5;241m.\u001B[39mimage\u001B[38;5;241m.\u001B[39mresize(img, (\u001B[38;5;241m256\u001B[39m,\u001B[38;5;241m256\u001B[39m))\n\u001B[0;32m      9\u001B[0m x \u001B[38;5;241m=\u001B[39m img_to_array(img)\n\u001B[0;32m     10\u001B[0m x \u001B[38;5;241m=\u001B[39m x\u001B[38;5;241m.\u001B[39mreshape((\u001B[38;5;241m1\u001B[39m,) \u001B[38;5;241m+\u001B[39m x\u001B[38;5;241m.\u001B[39mshape)\n",
      "File \u001B[1;32m~\\AppData\\Roaming\\Python\\Python310\\site-packages\\tensorflow\\python\\util\\traceback_utils.py:153\u001B[0m, in \u001B[0;36mfilter_traceback.<locals>.error_handler\u001B[1;34m(*args, **kwargs)\u001B[0m\n\u001B[0;32m    151\u001B[0m \u001B[38;5;28;01mexcept\u001B[39;00m \u001B[38;5;167;01mException\u001B[39;00m \u001B[38;5;28;01mas\u001B[39;00m e:\n\u001B[0;32m    152\u001B[0m   filtered_tb \u001B[38;5;241m=\u001B[39m _process_traceback_frames(e\u001B[38;5;241m.\u001B[39m__traceback__)\n\u001B[1;32m--> 153\u001B[0m   \u001B[38;5;28;01mraise\u001B[39;00m e\u001B[38;5;241m.\u001B[39mwith_traceback(filtered_tb) \u001B[38;5;28;01mfrom\u001B[39;00m \u001B[38;5;28mNone\u001B[39m\n\u001B[0;32m    154\u001B[0m \u001B[38;5;28;01mfinally\u001B[39;00m:\n\u001B[0;32m    155\u001B[0m   \u001B[38;5;28;01mdel\u001B[39;00m filtered_tb\n",
      "File \u001B[1;32m~\\AppData\\Roaming\\Python\\Python310\\site-packages\\tensorflow\\python\\framework\\constant_op.py:102\u001B[0m, in \u001B[0;36mconvert_to_eager_tensor\u001B[1;34m(value, ctx, dtype)\u001B[0m\n\u001B[0;32m    100\u001B[0m     dtype \u001B[38;5;241m=\u001B[39m dtypes\u001B[38;5;241m.\u001B[39mas_dtype(dtype)\u001B[38;5;241m.\u001B[39mas_datatype_enum\n\u001B[0;32m    101\u001B[0m ctx\u001B[38;5;241m.\u001B[39mensure_initialized()\n\u001B[1;32m--> 102\u001B[0m \u001B[38;5;28;01mreturn\u001B[39;00m \u001B[43mops\u001B[49m\u001B[38;5;241;43m.\u001B[39;49m\u001B[43mEagerTensor\u001B[49m\u001B[43m(\u001B[49m\u001B[43mvalue\u001B[49m\u001B[43m,\u001B[49m\u001B[43m \u001B[49m\u001B[43mctx\u001B[49m\u001B[38;5;241;43m.\u001B[39;49m\u001B[43mdevice_name\u001B[49m\u001B[43m,\u001B[49m\u001B[43m \u001B[49m\u001B[43mdtype\u001B[49m\u001B[43m)\u001B[49m\n",
      "\u001B[1;31mValueError\u001B[0m: Attempt to convert a value (<PIL.JpegImagePlugin.JpegImageFile image mode=RGB size=2048x1536 at 0x168F66ED4E0>) with an unsupported type (<class 'PIL.JpegImagePlugin.JpegImageFile'>) to a Tensor."
     ]
    }
   ],
   "source": [
    "for image_class in os.listdir(data_dir):\n",
    "    image_count = 0\n",
    "    if image_class == 'Moderately-differentiate':\n",
    "        for image in os.listdir(os.path.join(data_dir, image_class)):\n",
    "            image_path = os.path.join(data_dir, image_class, image)\n",
    "            image_count = image_count + 1\n",
    "            img  = load_img(image_path)\n",
    "            resize_img = tf.image.resize(img, (224,224))\n",
    "            x = img_to_array(img)\n",
    "            x = x.reshape((1,) + x.shape)\n",
    "            i = 0\n",
    "            for batch in datagen.flow(x, batch_size=1, save_to_dir='Dataset/augmented', save_prefix='aug', save_format='jpg'):\n",
    "                i += 1\n",
    "                if i > 17:\n",
    "                    break\n",
    "        print(\"Image Count is \" , image_count)"
   ],
   "metadata": {
    "collapsed": false
   }
  },
  {
   "cell_type": "markdown",
   "source": [
    "## Image Augmentation"
   ],
   "metadata": {
    "collapsed": false
   }
  },
  {
   "cell_type": "code",
   "execution_count": 17,
   "outputs": [],
   "source": [
    "import numpy as np\n",
    "import os\n",
    "from PIL import Image\n",
    "from skimage import io"
   ],
   "metadata": {
    "collapsed": false
   }
  },
  {
   "cell_type": "code",
   "execution_count": 20,
   "outputs": [],
   "source": [
    "image_directory =\"train/Poorly-differentiate\"\n",
    "size = 224\n",
    "dataset = []\n",
    "\n",
    "my_images = os.listdir(image_directory)\n",
    "for i, image_name in enumerate(my_images):\n",
    "    if image_name.split('.')[1] == 'jpg':\n",
    "        image = io.imread(os.path.join(image_directory, image_name))\n",
    "        image = Image.fromarray(image, 'RGB')\n",
    "        image = image.resize((size,size))\n",
    "        dataset.append(np.array(image))\n",
    "\n",
    "x = np.array(dataset)\n",
    "\n",
    "i = 0\n",
    "for batch in datagen.flow(x, batch_size=4, save_to_dir=\"train/Poorly-differentiate\", save_prefix='aug', save_format='jpg'):\n",
    "    i = i+1\n",
    "    if i > 4:\n",
    "        break"
   ],
   "metadata": {
    "collapsed": false
   }
  },
  {
   "cell_type": "markdown",
   "source": [
    "### Resizing the images"
   ],
   "metadata": {
    "collapsed": false
   }
  },
  {
   "cell_type": "code",
   "execution_count": 16,
   "outputs": [],
   "source": [
    "import os\n",
    "import numpy as np\n",
    "from PIL import Image\n",
    "\n",
    "train_dir = 'data'\n",
    "\n",
    "# Get a list of class directories\n",
    "class_dirs = os.listdir(train_dir)\n",
    "\n",
    "# Loop over each class directory\n",
    "for class_dir in class_dirs:\n",
    "    # Get a list of image filenames in the class directory\n",
    "    image_filenames = os.listdir(os.path.join(train_dir, class_dir))\n",
    "\n",
    "    # Loop over each image in the class directory\n",
    "    for image_filename in image_filenames:\n",
    "        # Open the image and resize it to 224x224\n",
    "        image = Image.open(os.path.join(train_dir, class_dir, image_filename))\n",
    "        image = image.resize((224, 224))\n",
    "\n",
    "        # Save the resized image\n",
    "        image.save(os.path.join(train_dir, class_dir, image_filename))"
   ],
   "metadata": {
    "collapsed": false
   }
  }
 ],
 "metadata": {
  "kernelspec": {
   "display_name": "Python 3",
   "language": "python",
   "name": "python3"
  },
  "language_info": {
   "codemirror_mode": {
    "name": "ipython",
    "version": 2
   },
   "file_extension": ".py",
   "mimetype": "text/x-python",
   "name": "python",
   "nbconvert_exporter": "python",
   "pygments_lexer": "ipython2",
   "version": "2.7.6"
  }
 },
 "nbformat": 4,
 "nbformat_minor": 0
}
