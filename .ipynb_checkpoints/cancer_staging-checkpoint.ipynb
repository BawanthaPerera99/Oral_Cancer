{
 "cells": [
  {
   "cell_type": "code",
   "execution_count": 102,
   "metadata": {
    "collapsed": true
   },
   "outputs": [],
   "source": [
    "import keras.losses\n",
    "import numpy as np\n",
    "import matplotlib.pyplot as plt\n",
    "import os\n",
    "import math\n",
    "import shutil\n",
    "import glob"
   ]
  },
  {
   "cell_type": "code",
   "execution_count": 103,
   "metadata": {},
   "outputs": [
    {
     "data": {
      "text/plain": [
       "['Moderately-differentiate',\n",
       " 'Normal',\n",
       " 'Poorly-differentiate',\n",
       " 'Well-differentiate']"
      ]
     },
     "execution_count": 103,
     "metadata": {},
     "output_type": "execute_result"
    }
   ],
   "source": [
    "ROOT_DIR = \"data\"\n",
    "os.listdir(ROOT_DIR)"
   ]
  },
  {
   "cell_type": "code",
   "execution_count": 104,
   "metadata": {},
   "outputs": [
    {
     "data": {
      "text/plain": [
       "4"
      ]
     },
     "execution_count": 104,
     "metadata": {},
     "output_type": "execute_result"
    }
   ],
   "source": [
    "len(os.listdir(ROOT_DIR))"
   ]
  },
  {
   "cell_type": "code",
   "execution_count": 105,
   "metadata": {},
   "outputs": [
    {
     "data": {
      "text/plain": [
       "dict_items([('Moderately-differentiate', 249), ('Normal', 290), ('Poorly-differentiate', 288), ('Well-differentiate', 238)])"
      ]
     },
     "execution_count": 105,
     "metadata": {},
     "output_type": "execute_result"
    }
   ],
   "source": [
    "# count the number of images in each class\n",
    "number_of_images = {}\n",
    "\n",
    "for image_class in os.listdir(ROOT_DIR):\n",
    "    number_of_images[image_class] = len(os.listdir(os.path.join(ROOT_DIR, image_class)))\n",
    "\n",
    "number_of_images.items()"
   ]
  },
  {
   "cell_type": "code",
   "execution_count": 106,
   "metadata": {},
   "outputs": [],
   "source": [
    "# Creating the train, validation and test folders\n",
    "def dataFolder(p, split):\n",
    "    if not os.path.exists(\"./\"+p):\n",
    "        os.mkdir(\"./\"+p)\n",
    "\n",
    "        for image_class in os.listdir(ROOT_DIR):\n",
    "            os.makedirs(\"./\"+p+\"/\"+image_class)\n",
    "            for img in np.random.choice(a = os.listdir(os.path.join(ROOT_DIR,image_class)),\n",
    "                                    size = (math.floor(split*number_of_images[image_class])-5), replace=False):\n",
    "                O = os.path.join(ROOT_DIR, image_class, img) #path\n",
    "                D = os.path.join(\"./\"+p,image_class)\n",
    "                shutil.copy(O,D)\n",
    "                os.remove(O)\n",
    "    else:\n",
    "        print(\"the folder exist\")"
   ]
  },
  {
   "cell_type": "code",
   "execution_count": 110,
   "metadata": {},
   "outputs": [
    {
     "name": "stdout",
     "output_type": "stream",
     "text": [
      "the folder exist\n"
     ]
    }
   ],
   "source": [
    "dataFolder(\"train\", 0.7)"
   ]
  },
  {
   "cell_type": "code",
   "execution_count": 111,
   "metadata": {},
   "outputs": [
    {
     "name": "stdout",
     "output_type": "stream",
     "text": [
      "the folder exist\n"
     ]
    }
   ],
   "source": [
    "dataFolder(\"val\", 0.15)"
   ]
  },
  {
   "cell_type": "code",
   "execution_count": 112,
   "metadata": {},
   "outputs": [
    {
     "name": "stdout",
     "output_type": "stream",
     "text": [
      "the folder exist\n"
     ]
    }
   ],
   "source": [
    "dataFolder(\"test\", 0.15)"
   ]
  },
  {
   "cell_type": "markdown",
   "metadata": {},
   "source": []
  },
  {
   "cell_type": "code",
   "execution_count": 140,
   "metadata": {},
   "outputs": [
    {
     "data": {
      "text/plain": [
       "dict_items([('Moderately-differentiate', 1046), ('Normal', 1086), ('Poorly-differentiate', 1076), ('Well-differentiate', 998)])"
      ]
     },
     "execution_count": 140,
     "metadata": {},
     "output_type": "execute_result"
    }
   ],
   "source": [
    "# count the number of images in each class\n",
    "number_of_images = {}\n",
    "\n",
    "for image_class in os.listdir('train'):\n",
    "    number_of_images[image_class] = len(os.listdir(os.path.join('train', image_class)))\n",
    "\n",
    "number_of_images.items()"
   ]
  },
  {
   "cell_type": "markdown",
   "metadata": {},
   "source": [
    "## Data Augmentation"
   ]
  },
  {
   "cell_type": "code",
   "execution_count": 115,
   "metadata": {},
   "outputs": [],
   "source": [
    "from keras_preprocessing.image import ImageDataGenerator\n",
    "from PIL import Image\n",
    "import cv2"
   ]
  },
  {
   "cell_type": "code",
   "execution_count": 116,
   "metadata": {},
   "outputs": [],
   "source": [
    "datagen = ImageDataGenerator(rotation_range=45, width_shift_range=0.2, height_shift_range=0.2,\n",
    "                             shear_range=0.2, zoom_range=0.2, horizontal_flip=True, fill_mode='reflect')"
   ]
  },
  {
   "cell_type": "code",
   "execution_count": 119,
   "metadata": {},
   "outputs": [],
   "source": [
    "def dataAugmentation(image_folder):\n",
    "    dataset = []\n",
    "\n",
    "    my_images = os.listdir(image_folder)\n",
    "    for i, image_name in enumerate(my_images):\n",
    "        image = cv2.imread(image_folder+image_name)\n",
    "        image = cv2.cvtColor(image, cv2.COLOR_BGR2RGB)\n",
    "        image = Image.fromarray(image, 'RGB')\n",
    "        image = image.resize((224,224))\n",
    "        dataset.append(np.array(image))\n",
    "\n",
    "    x = np.array(dataset)\n",
    "\n",
    "    i = 0\n",
    "    for batch in datagen.flow(x, batch_size=32, save_to_dir=image_folder,\n",
    "                              save_prefix='aug', save_format='jpg', shuffle=True):\n",
    "        i += 1\n",
    "        if i > 30:\n",
    "            break"
   ]
  },
  {
   "cell_type": "code",
   "execution_count": 120,
   "metadata": {},
   "outputs": [],
   "source": [
    "dataAugmentation('train/Normal/')"
   ]
  },
  {
   "cell_type": "code",
   "execution_count": 121,
   "metadata": {},
   "outputs": [],
   "source": [
    "dataAugmentation('train/Well-differentiate/')"
   ]
  },
  {
   "cell_type": "code",
   "execution_count": 122,
   "metadata": {},
   "outputs": [],
   "source": [
    "dataAugmentation('train/Poorly-differentiate/')"
   ]
  },
  {
   "cell_type": "code",
   "execution_count": 124,
   "metadata": {},
   "outputs": [],
   "source": [
    "dataAugmentation('train/Moderately-differentiate/')"
   ]
  },
  {
   "cell_type": "markdown",
   "metadata": {},
   "source": [
    "# Model Building"
   ]
  },
  {
   "cell_type": "code",
   "execution_count": 126,
   "metadata": {},
   "outputs": [],
   "source": [
    "from keras.layers import Conv2D, MaxPool2D, Dropout, Flatten, Dense, BatchNormalization, GlobalAvgPool2D\n",
    "from keras.models import Sequential"
   ]
  },
  {
   "cell_type": "code",
   "execution_count": 127,
   "metadata": {},
   "outputs": [
    {
     "name": "stdout",
     "output_type": "stream",
     "text": [
      "Model: \"sequential\"\n",
      "_________________________________________________________________\n",
      " Layer (type)                Output Shape              Param #   \n",
      "=================================================================\n",
      " conv2d (Conv2D)             (None, 222, 222, 16)      448       \n",
      "                                                                 \n",
      " conv2d_1 (Conv2D)           (None, 220, 220, 36)      5220      \n",
      "                                                                 \n",
      " max_pooling2d (MaxPooling2D  (None, 110, 110, 36)     0         \n",
      " )                                                               \n",
      "                                                                 \n",
      " conv2d_2 (Conv2D)           (None, 108, 108, 64)      20800     \n",
      "                                                                 \n",
      " max_pooling2d_1 (MaxPooling  (None, 54, 54, 64)       0         \n",
      " 2D)                                                             \n",
      "                                                                 \n",
      " conv2d_3 (Conv2D)           (None, 52, 52, 128)       73856     \n",
      "                                                                 \n",
      " max_pooling2d_2 (MaxPooling  (None, 26, 26, 128)      0         \n",
      " 2D)                                                             \n",
      "                                                                 \n",
      " dropout (Dropout)           (None, 26, 26, 128)       0         \n",
      "                                                                 \n",
      " flatten (Flatten)           (None, 86528)             0         \n",
      "                                                                 \n",
      " dense (Dense)               (None, 64)                5537856   \n",
      "                                                                 \n",
      " dropout_1 (Dropout)         (None, 64)                0         \n",
      "                                                                 \n",
      " dense_1 (Dense)             (None, 4)                 260       \n",
      "                                                                 \n",
      "=================================================================\n",
      "Total params: 5,638,440\n",
      "Trainable params: 5,638,440\n",
      "Non-trainable params: 0\n",
      "_________________________________________________________________\n"
     ]
    }
   ],
   "source": [
    "# CNN model\n",
    "\n",
    "model = Sequential()\n",
    "\n",
    "model.add(Conv2D(filters=16, kernel_size=(3,3), activation='relu', input_shape=(224,224,3)))\n",
    "\n",
    "model.add(Conv2D(filters=36, kernel_size=(3,3), activation='relu'))\n",
    "model.add(MaxPool2D(pool_size=(2,2)))\n",
    "\n",
    "model.add(Conv2D(filters=64, kernel_size=(3,3), activation='relu'))\n",
    "model.add(MaxPool2D(pool_size=(2,2)))\n",
    "\n",
    "model.add(Conv2D(filters=128, kernel_size=(3,3), activation='relu'))\n",
    "model.add(MaxPool2D(pool_size=(2,2)))\n",
    "\n",
    "model.add(Dropout(rate=0.25))\n",
    "\n",
    "model.add(Flatten())\n",
    "model.add(Dense(units=64, activation='relu'))\n",
    "model.add(Dropout(rate=0.25))\n",
    "model.add(Dense(units=4, activation='softmax'))\n",
    "\n",
    "model.summary()"
   ]
  },
  {
   "cell_type": "code",
   "execution_count": 128,
   "metadata": {},
   "outputs": [],
   "source": [
    "model.compile(optimizer='adam', loss='categorical_crossentropy', metrics=['accuracy'])"
   ]
  },
  {
   "cell_type": "markdown",
   "metadata": {},
   "source": [
    "## Preparing the data"
   ]
  },
  {
   "cell_type": "code",
   "execution_count": 130,
   "metadata": {},
   "outputs": [
    {
     "data": {
      "text/plain": [
       "dict_items([('Moderately-differentiate', 16), ('Normal', 16), ('Poorly-differentiate', 16), ('Well-differentiate', 17)])"
      ]
     },
     "execution_count": 130,
     "metadata": {},
     "output_type": "execute_result"
    }
   ],
   "source": [
    "number_of_images = {}\n",
    "\n",
    "for image_class in os.listdir('data'):\n",
    "    number_of_images[image_class] = len(os.listdir(os.path.join('data', image_class)))\n",
    "\n",
    "number_of_images.items()"
   ]
  },
  {
   "cell_type": "code",
   "execution_count": 131,
   "metadata": {},
   "outputs": [
    {
     "name": "stdout",
     "output_type": "stream",
     "text": [
      "Found 4206 images belonging to 4 classes.\n"
     ]
    }
   ],
   "source": [
    "train_datagen = ImageDataGenerator(zoom_range=0.2, shear_range=0.2, rescale=1/255, horizontal_flip=True)\n",
    "train_images = train_datagen.flow_from_directory(directory='train', target_size=(224,224),\n",
    "                                                 batch_size=32, class_mode='categorical')\n"
   ]
  },
  {
   "cell_type": "code",
   "execution_count": 132,
   "metadata": {},
   "outputs": [
    {
     "name": "stdout",
     "output_type": "stream",
     "text": [
      "Found 138 images belonging to 4 classes.\n"
     ]
    }
   ],
   "source": [
    "validation_datagen = ImageDataGenerator(rescale=1/255)\n",
    "validation_images = validation_datagen.flow_from_directory(directory='val', target_size=(224,224),\n",
    "                                                 batch_size=32, class_mode='categorical')"
   ]
  },
  {
   "cell_type": "code",
   "execution_count": 133,
   "metadata": {},
   "outputs": [
    {
     "name": "stdout",
     "output_type": "stream",
     "text": [
      "Found 138 images belonging to 4 classes.\n"
     ]
    }
   ],
   "source": [
    "test_datagen = ImageDataGenerator(rescale=1/255)\n",
    "test_images = test_datagen.flow_from_directory(directory='test', target_size=(224,224),\n",
    "                                                 batch_size=32, class_mode='categorical')"
   ]
  },
  {
   "cell_type": "markdown",
   "metadata": {},
   "source": [
    "### Adding Early stopping and Model Checkpoint"
   ]
  },
  {
   "cell_type": "code",
   "execution_count": 134,
   "metadata": {},
   "outputs": [],
   "source": [
    "from keras.callbacks import ModelCheckpoint, EarlyStopping"
   ]
  },
  {
   "cell_type": "code",
   "execution_count": 154,
   "metadata": {},
   "outputs": [],
   "source": [
    "# early stopping\n",
    "es = EarlyStopping(monitor=\"val_accuracy\", min_delta=0.01, patience=7, verbose=1, mode='auto')\n",
    "\n",
    "# model checkpoint\n",
    "mc = ModelCheckpoint(monitor=\"val_accuracy\", filepath=\"./best_model_2.h5\", save_best_only=True, verbose=1, mode='auto')\n",
    "\n",
    " cd = [es,mc]"
   ]
  },
  {
   "cell_type": "markdown",
   "metadata": {},
   "source": [
    "# Model Training"
   ]
  },
  {
   "cell_type": "code",
   "execution_count": 155,
   "metadata": {},
   "outputs": [
    {
     "name": "stdout",
     "output_type": "stream",
     "text": [
      "Epoch 1/20\n",
      "132/132 [==============================] - ETA: 0s - loss: 0.6558 - accuracy: 0.7225\n",
      "Epoch 1: val_accuracy improved from -inf to 0.52899, saving model to .\\best_model_2.h5\n",
      "132/132 [==============================] - 288s 2s/step - loss: 0.6558 - accuracy: 0.7225 - val_loss: 1.3619 - val_accuracy: 0.5290\n",
      "Epoch 2/20\n",
      "132/132 [==============================] - ETA: 0s - loss: 0.6457 - accuracy: 0.7230\n",
      "Epoch 2: val_accuracy did not improve from 0.52899\n",
      "132/132 [==============================] - 283s 2s/step - loss: 0.6457 - accuracy: 0.7230 - val_loss: 1.4721 - val_accuracy: 0.5145\n",
      "Epoch 3/20\n",
      "132/132 [==============================] - ETA: 0s - loss: 0.6314 - accuracy: 0.7351\n",
      "Epoch 3: val_accuracy improved from 0.52899 to 0.55797, saving model to .\\best_model_2.h5\n",
      "132/132 [==============================] - 283s 2s/step - loss: 0.6314 - accuracy: 0.7351 - val_loss: 1.3600 - val_accuracy: 0.5580\n",
      "Epoch 4/20\n",
      "132/132 [==============================] - ETA: 0s - loss: 0.6103 - accuracy: 0.7418\n",
      "Epoch 4: val_accuracy improved from 0.55797 to 0.58696, saving model to .\\best_model_2.h5\n",
      "132/132 [==============================] - 296s 2s/step - loss: 0.6103 - accuracy: 0.7418 - val_loss: 1.1790 - val_accuracy: 0.5870\n",
      "Epoch 5/20\n",
      "132/132 [==============================] - ETA: 0s - loss: 0.5919 - accuracy: 0.7546\n",
      "Epoch 5: val_accuracy did not improve from 0.58696\n",
      "132/132 [==============================] - 317s 2s/step - loss: 0.5919 - accuracy: 0.7546 - val_loss: 1.3792 - val_accuracy: 0.5870\n",
      "Epoch 6/20\n",
      "132/132 [==============================] - ETA: 0s - loss: 0.6106 - accuracy: 0.7527\n",
      "Epoch 6: val_accuracy did not improve from 0.58696\n",
      "132/132 [==============================] - 307s 2s/step - loss: 0.6106 - accuracy: 0.7527 - val_loss: 1.3261 - val_accuracy: 0.5652\n",
      "Epoch 7/20\n",
      "132/132 [==============================] - ETA: 0s - loss: 0.5807 - accuracy: 0.7565\n",
      "Epoch 7: val_accuracy did not improve from 0.58696\n",
      "132/132 [==============================] - 303s 2s/step - loss: 0.5807 - accuracy: 0.7565 - val_loss: 1.3320 - val_accuracy: 0.5507\n",
      "Epoch 8/20\n",
      "132/132 [==============================] - ETA: 0s - loss: 0.5834 - accuracy: 0.7573\n",
      "Epoch 8: val_accuracy did not improve from 0.58696\n",
      "132/132 [==============================] - 317s 2s/step - loss: 0.5834 - accuracy: 0.7573 - val_loss: 1.5032 - val_accuracy: 0.5725\n",
      "Epoch 9/20\n",
      "132/132 [==============================] - ETA: 0s - loss: 0.5532 - accuracy: 0.7632\n",
      "Epoch 9: val_accuracy did not improve from 0.58696\n",
      "132/132 [==============================] - 299s 2s/step - loss: 0.5532 - accuracy: 0.7632 - val_loss: 1.5542 - val_accuracy: 0.5362\n",
      "Epoch 10/20\n",
      "132/132 [==============================] - ETA: 0s - loss: 0.5700 - accuracy: 0.7672\n",
      "Epoch 10: val_accuracy did not improve from 0.58696\n",
      "132/132 [==============================] - 295s 2s/step - loss: 0.5700 - accuracy: 0.7672 - val_loss: 1.3612 - val_accuracy: 0.5362\n",
      "Epoch 11/20\n",
      "132/132 [==============================] - ETA: 0s - loss: 0.5728 - accuracy: 0.7601\n",
      "Epoch 11: val_accuracy did not improve from 0.58696\n",
      "132/132 [==============================] - 305s 2s/step - loss: 0.5728 - accuracy: 0.7601 - val_loss: 1.4691 - val_accuracy: 0.5797\n",
      "Epoch 11: early stopping\n"
     ]
    }
   ],
   "source": [
    "hs = model.fit(train_images,\n",
    "                         epochs=20,\n",
    "                         verbose=1,\n",
    "                         validation_data=validation_images,\n",
    "                         callbacks=cd)"
   ]
  },
  {
   "cell_type": "code",
   "execution_count": 156,
   "metadata": {},
   "outputs": [
    {
     "data": {
      "text/plain": [
       "dict_keys(['loss', 'accuracy', 'val_loss', 'val_accuracy'])"
      ]
     },
     "execution_count": 156,
     "metadata": {},
     "output_type": "execute_result"
    }
   ],
   "source": [
    "h = hs.history\n",
    "h.keys()"
   ]
  },
  {
   "cell_type": "code",
   "execution_count": 157,
   "metadata": {},
   "outputs": [
    {
     "data": {
      "text/plain": [
       "<function matplotlib.pyplot.show(close=None, block=None)>"
      ]
     },
     "execution_count": 157,
     "metadata": {},
     "output_type": "execute_result"
    },
    {
     "data": {
      "image/png": "[encoded data removed]",
      "text/plain": [
       "<Figure size 640x480 with 1 Axes>"
      ]
     },
     "metadata": {},
     "output_type": "display_data"
    }
   ],
   "source": [
    "plt.plot(h['accuracy'])\n",
    "plt.plot(h['val_accuracy'] ,c=\"red\")\n",
    "plt.title('Accuracy')\n",
    "plt.show"
   ]
  },
  {
   "cell_type": "code",
   "execution_count": 158,
   "metadata": {},
   "outputs": [
    {
     "data": {
      "text/plain": [
       "<function matplotlib.pyplot.show(close=None, block=None)>"
      ]
     },
     "execution_count": 158,
     "metadata": {},
     "output_type": "execute_result"
    },
    {
     "data": {
      "image/png": "[encoded data removed]",
      "text/plain": [
       "<Figure size 640x480 with 1 Axes>"
      ]
     },
     "metadata": {},
     "output_type": "display_data"
    }
   ],
   "source": [
    "plt.plot(h['loss'])\n",
    "plt.plot(h['val_loss'] ,c=\"red\")\n",
    "plt.title('Loss')\n",
    "plt.show"
   ]
  }
 ],
 "metadata": {
  "kernelspec": {
   "display_name": "Python 3 (ipykernel)",
   "language": "python",
   "name": "python3"
  },
  "language_info": {
   "codemirror_mode": {
    "name": "ipython",
    "version": 3
   },
   "file_extension": ".py",
   "mimetype": "text/x-python",
   "name": "python",
   "nbconvert_exporter": "python",
   "pygments_lexer": "ipython3",
   "version": "3.10.7"
  }
 },
 "nbformat": 4,
 "nbformat_minor": 1
}
